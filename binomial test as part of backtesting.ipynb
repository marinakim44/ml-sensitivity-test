{
 "cells": [
  {
   "cell_type": "code",
   "execution_count": 1,
   "metadata": {},
   "outputs": [],
   "source": [
    "import pandas as pd\n",
    "import numpy as np\n",
    "from sklearn.metrics import roc_curve, roc_auc_score, brier_score_loss"
   ]
  },
  {
   "cell_type": "code",
   "execution_count": 2,
   "metadata": {},
   "outputs": [],
   "source": [
    "pd_non_pension_dev = pd.read_pickle(r'file1')\n",
    "pd_non_pension_val = pd.read_pickle(r'file2')\n",
    "pd_non_pension_oot = pd.read_pickle(r'file3')\n",
    "\n",
    "pd_pension_dev = pd.read_pickle(r'file4')\n",
    "pd_pension_val = pd.read_pickle(r'file5')\n",
    "pd_pension_oot = pd.read_pickle(r'file6')\n",
    "\n",
    "pd_street_dev = pd.read_pickle(r'file7')\n",
    "pd_street_val = pd.read_pickle(r'file8')\n",
    "pd_street_oot = pd.read_pickle(r'file9')"
   ]
  },
  {
   "cell_type": "code",
   "execution_count": null,
   "metadata": {},
   "outputs": [],
   "source": [
    "pd_non_pension_dev['CONTRACT_REF_NO'] = pd_non_pension_dev['CONTRACT_REF_NO_raw'] + \"_\" + pd_non_pension_dev['REPORT_DATE_str']\n",
    "pd_non_pension_dev"
   ]
  },
  {
   "cell_type": "code",
   "execution_count": 16,
   "metadata": {},
   "outputs": [],
   "source": [
    "masterlist_np_devval = pd.read_pickle(r'C:\\Users\\mkim414\\Desktop\\projects\\kapital\\client data_011222\\IFRS_011222\\Masterlist_IFRS\\masterlist_salary_non_pension_devval.pkl')\n",
    "masterlist_np_oot = pd.read_pickle(r'C:\\Users\\mkim414\\Desktop\\projects\\kapital\\client data_011222\\IFRS_011222\\Masterlist_IFRS\\masterlist_non_pension_oot.pkl')\n",
    "\n",
    "masterlist_p_devval = pd.read_pickle(r'C:\\Users\\mkim414\\Desktop\\projects\\kapital\\client data_011222\\IFRS_011222\\Masterlist_IFRS\\masterlist_salary_pension_devval.pkl')\n",
    "masterlist_p_oot = pd.read_pickle(r'C:\\Users\\mkim414\\Desktop\\projects\\kapital\\client data_011222\\IFRS_011222\\Masterlist_IFRS\\masterlist_pension_oot.pkl')\n",
    "\n",
    "masterlist_s_devval = pd.read_pickle(r'C:\\Users\\mkim414\\Desktop\\projects\\kapital\\client data_011222\\IFRS_011222\\Masterlist_IFRS\\masterlist_street_devval.pkl')\n",
    "masterlist_s_oot = pd.read_pickle(r'C:\\Users\\mkim414\\Desktop\\projects\\kapital\\client data_011222\\IFRS_011222\\Masterlist_IFRS\\masterlist_street_oot.pkl')"
   ]
  },
  {
   "cell_type": "code",
   "execution_count": null,
   "metadata": {},
   "outputs": [],
   "source": [
    "np_dev = pd_non_pension_dev.merge(masterlist_np_devval, how='left', on=['CONTRACT_REF_NO'])\n",
    "np_dev"
   ]
  },
  {
   "cell_type": "code",
   "execution_count": 4,
   "metadata": {},
   "outputs": [],
   "source": [
    "df_np_dev = pd_non_pension_dev.drop_duplicates()\n",
    "df_np_val = pd_non_pension_val.drop_duplicates()\n",
    "df_np_oot = pd_non_pension_oot.drop_duplicates()\n",
    "\n",
    "df_p_dev = pd_pension_dev.drop_duplicates()\n",
    "df_p_val = pd_pension_val.drop_duplicates()\n",
    "df_p_oot = pd_pension_oot.drop_duplicates()\n",
    "\n",
    "df_s_dev = pd_street_dev.drop_duplicates()\n",
    "df_s_val = pd_street_val.drop_duplicates()\n",
    "df_s_oot = pd_street_oot.drop_duplicates()"
   ]
  },
  {
   "cell_type": "code",
   "execution_count": 5,
   "metadata": {},
   "outputs": [],
   "source": [
    "df_np_dev = df_np_dev[['CONTRACT_REF_NO_raw','final_pd']]\n",
    "df_np_val = df_np_val[['CONTRACT_REF_NO_raw','final_pd']]\n",
    "df_np_oot = df_np_oot[['CONTRACT_REF_NO_raw','final_pd']]\n",
    "\n",
    "df_p_dev = df_p_dev[['CONTRACT_REF_NO_raw','final_pd']]\n",
    "df_p_val = df_p_val[['CONTRACT_REF_NO_raw','final_pd']]\n",
    "df_p_oot = df_p_oot[['CONTRACT_REF_NO_raw','final_pd']]\n",
    "\n",
    "df_s_dev = df_s_dev[['CONTRACT_REF_NO_raw','final_pd']]\n",
    "df_s_val = df_s_val[['CONTRACT_REF_NO_raw','final_pd']]\n",
    "df_s_oot = df_s_oot[['CONTRACT_REF_NO_raw','final_pd']]"
   ]
  },
  {
   "cell_type": "code",
   "execution_count": 6,
   "metadata": {},
   "outputs": [],
   "source": [
    "masterlist_np_devval = masterlist_np_devval.drop_duplicates()\n",
    "masterlist_np_oot = masterlist_np_oot.drop_duplicates()\n",
    "\n",
    "masterlist_p_devval = masterlist_p_devval.drop_duplicates()\n",
    "masterlist_p_oot = masterlist_p_oot.drop_duplicates()\n",
    "\n",
    "masterlist_s_devval = masterlist_s_devval.drop_duplicates()\n",
    "masterlist_s_oot = masterlist_s_oot.drop_duplicates()"
   ]
  },
  {
   "cell_type": "code",
   "execution_count": 7,
   "metadata": {},
   "outputs": [],
   "source": [
    "masterlist_np_dev = masterlist_np_devval.loc[masterlist_np_devval['tag'] == 'DEV']\n",
    "masterlist_np_val = masterlist_np_devval.loc[masterlist_np_devval['tag'] == 'VAL']\n",
    "\n",
    "masterlist_p_dev = masterlist_p_devval.loc[masterlist_p_devval['tag'] == 'DEV']\n",
    "masterlist_p_val = masterlist_p_devval.loc[masterlist_p_devval['tag'] == 'VAL']\n",
    "\n",
    "masterlist_s_dev = masterlist_s_devval.loc[masterlist_s_devval['tag'] == 'DEV']\n",
    "masterlist_s_val = masterlist_s_devval.loc[masterlist_s_devval['tag'] == 'VAL']"
   ]
  },
  {
   "cell_type": "code",
   "execution_count": 8,
   "metadata": {},
   "outputs": [],
   "source": [
    "masterlist_np_dev = masterlist_np_dev[['CONTRACT_REF_NO_raw','bad_flag']]\n",
    "masterlist_np_val = masterlist_np_val[['CONTRACT_REF_NO_raw','bad_flag']]\n",
    "\n",
    "masterlist_p_dev = masterlist_p_dev[['CONTRACT_REF_NO_raw','bad_flag']]\n",
    "masterlist_p_val = masterlist_p_val[['CONTRACT_REF_NO_raw','bad_flag']]\n",
    "\n",
    "masterlist_s_dev = masterlist_s_dev[['CONTRACT_REF_NO_raw','bad_flag']]\n",
    "masterlist_s_val = masterlist_s_val[['CONTRACT_REF_NO_raw','bad_flag']]"
   ]
  },
  {
   "cell_type": "code",
   "execution_count": 9,
   "metadata": {},
   "outputs": [],
   "source": [
    "np_dev = df_np_dev.merge(masterlist_np_dev, on=['CONTRACT_REF_NO_raw'])\n",
    "np_val = df_np_val.merge(masterlist_np_val, on=['CONTRACT_REF_NO_raw'])\n",
    "np_oot = df_np_oot.merge(masterlist_np_oot, on=['CONTRACT_REF_NO_raw'])"
   ]
  },
  {
   "cell_type": "code",
   "execution_count": null,
   "metadata": {},
   "outputs": [],
   "source": [
    "np_dev = np_dev[['CONTRACT_REF_NO','bad_flag_y','final_pd']]\n",
    "np_dev"
   ]
  },
  {
   "cell_type": "code",
   "execution_count": null,
   "metadata": {},
   "outputs": [],
   "source": [
    "significance_level = 0.05\n",
    "np_dev['expected_pd'] = np.where(np_dev['final_pd'] > significance_level, 1, 0)\n",
    "np_dev"
   ]
  },
  {
   "cell_type": "code",
   "execution_count": 41,
   "metadata": {},
   "outputs": [
    {
     "name": "stdout",
     "output_type": "stream",
     "text": [
      "PD forecast: 0.038818775734851665\n",
      "Number of loans: 409725\n",
      "Expected number of defaults: 77466\n",
      "Empirical number of defaults: 15905\n"
     ]
    }
   ],
   "source": [
    "pd_forecast = np_dev['final_pd'].mean()\n",
    "print(\"PD forecast: \" + str(pd_forecast))\n",
    "number_of_loans = np_dev.shape[0]\n",
    "print(\"Number of loans: \" + str(number_of_loans))\n",
    "expected_number_of_default = np_dev['expected_pd'].sum()\n",
    "print(\"Expected number of defaults: \" + str(expected_number_of_default))\n",
    "empirical_number_of_default = np_dev['bad_flag_y'].sum()\n",
    "print(\"Empirical number of defaults: \" + str(empirical_number_of_default))"
   ]
  },
  {
   "cell_type": "code",
   "execution_count": null,
   "metadata": {},
   "outputs": [],
   "source": [
    "p_dev = df_p_dev.merge(masterlist_p_dev, on=['CONTRACT_REF_NO_raw'])\n",
    "p_val = df_p_val.merge(masterlist_p_val, on=['CONTRACT_REF_NO_raw'])\n",
    "p_oot = df_p_oot.merge(masterlist_p_oot, on=['CONTRACT_REF_NO_raw'])"
   ]
  },
  {
   "cell_type": "code",
   "execution_count": null,
   "metadata": {},
   "outputs": [],
   "source": [
    "s_dev = df_s_dev.merge(masterlist_s_dev, on=['CONTRACT_REF_NO_raw'])\n",
    "s_val = df_s_val.merge(masterlist_s_val, on=['CONTRACT_REF_NO_raw'])\n",
    "s_oot = df_s_oot.merge(masterlist_s_oot, on=['CONTRACT_REF_NO_raw'])"
   ]
  },
  {
   "cell_type": "code",
   "execution_count": null,
   "metadata": {},
   "outputs": [],
   "source": [
    "np_dev = np_dev.drop_duplicates()\n",
    "np_val = np_val.drop_duplicates()\n",
    "np_oot = np_oot.drop_duplicates()\n",
    "np_oot_c = np_oot_c.drop_duplicates()\n",
    "\n",
    "p_dev = p_dev.drop_duplicates()\n",
    "p_val = p_val.drop_duplicates()\n",
    "p_oot = p_oot.drop_duplicates()\n",
    "\n",
    "s_dev = s_dev.drop_duplicates()\n",
    "s_val = s_val.drop_duplicates()\n",
    "s_oot = s_oot.drop_duplicates()"
   ]
  },
  {
   "cell_type": "code",
   "execution_count": null,
   "metadata": {},
   "outputs": [],
   "source": [
    "bins = [0,.1,.2,.3,.4,.5,.6,.7,.8,.9,1]\n",
    "np_dev['pd_bins'] = pd.cut(np_dev['final_pd'], bins)\n",
    "np_val['pd_bins'] = pd.cut(np_val['final_pd'], bins)\n",
    "np_oot['pd_bins'] = pd.cut(np_oot['final_pd'], bins)\n",
    "np_oot_c['pd_bins'] = pd.cut(np_oot_c['final_pd'], bins)\n",
    "\n",
    "p_dev['pd_bins'] = pd.cut(p_dev['final_pd'], bins)\n",
    "p_val['pd_bins'] = pd.cut(p_val['final_pd'], bins)\n",
    "p_oot['pd_bins'] = pd.cut(p_oot['final_pd'], bins)\n",
    "\n",
    "s_dev['pd_bins'] = pd.cut(s_dev['final_pd'], bins)\n",
    "s_val['pd_bins'] = pd.cut(s_val['final_pd'], bins)\n",
    "s_oot['pd_bins'] = pd.cut(s_oot['final_pd'], bins)"
   ]
  },
  {
   "cell_type": "code",
   "execution_count": null,
   "metadata": {},
   "outputs": [],
   "source": [
    "agg_dict={'CONTRACT_REF_NO_raw':'count','final_pd':'mean','bad_flag':'sum'}\n",
    "# agg_dict_c={'CONTRACT_REF_NO_raw':'count','pd_ub_c':'mean','bad_flag':'sum'}"
   ]
  },
  {
   "cell_type": "code",
   "execution_count": null,
   "metadata": {},
   "outputs": [],
   "source": [
    "print(brier_score_loss(np_dev['bad_flag'], np_dev['final_pd']))\n",
    "print(brier_score_loss(np_val['bad_flag'], np_val['final_pd']))\n",
    "print(brier_score_loss(np_oot['bad_flag'], np_oot['final_pd']))\n",
    "print(brier_score_loss(np_oot_c['bad_flag'], np_oot_c['final_pd']))"
   ]
  },
  {
   "cell_type": "code",
   "execution_count": null,
   "metadata": {},
   "outputs": [],
   "source": [
    "np_dev = np_dev.groupby(by=['pd_bins']).agg(agg_dict).reset_index()\n",
    "np_val = np_val.groupby(by=['pd_bins']).agg(agg_dict).reset_index()\n",
    "np_oot = np_oot.groupby(by=['pd_bins']).agg(agg_dict).reset_index()\n",
    "np_oot_c = np_oot_c.groupby(by=['pd_bins']).agg(agg_dict).reset_index()\n",
    "\n",
    "p_dev = p_dev.groupby(by=['pd_bins']).agg(agg_dict).reset_index()\n",
    "p_val = p_val.groupby(by=['pd_bins']).agg(agg_dict).reset_index()\n",
    "p_oot = p_oot.groupby(by=['pd_bins']).agg(agg_dict).reset_index()\n",
    "\n",
    "s_dev = s_dev.groupby(by=['pd_bins']).agg(agg_dict).reset_index()\n",
    "s_val = s_val.groupby(by=['pd_bins']).agg(agg_dict).reset_index()\n",
    "s_oot = s_oot.groupby(by=['pd_bins']).agg(agg_dict).reset_index()"
   ]
  },
  {
   "cell_type": "code",
   "execution_count": null,
   "metadata": {},
   "outputs": [],
   "source": [
    "np_dev = np_dev.rename(columns={\"CONTRACT_REF_NO_raw\":\"count_obs\",\"bad_flag\":\"default\"})\n",
    "np_val = np_val.rename(columns={\"CONTRACT_REF_NO_raw\":\"count_obs\",\"bad_flag\":\"default\"})\n",
    "np_oot = np_oot.rename(columns={\"CONTRACT_REF_NO_raw\":\"count_obs\",\"bad_flag\":\"default\"})\n",
    "np_oot_c = np_oot_c.rename(columns={\"CONTRACT_REF_NO_raw\":\"count_obs\",\"bad_flag\":\"default\"})\n",
    "\n",
    "p_dev = p_dev.rename(columns={\"CONTRACT_REF_NO_raw\":\"count_obs\",\"bad_flag\":\"default\"})\n",
    "p_val = p_val.rename(columns={\"CONTRACT_REF_NO_raw\":\"count_obs\",\"bad_flag\":\"default\"})\n",
    "p_oot = p_oot.rename(columns={\"CONTRACT_REF_NO_raw\":\"count_obs\",\"bad_flag\":\"default\"})\n",
    "\n",
    "s_dev = s_dev.rename(columns={\"CONTRACT_REF_NO_raw\":\"count_obs\",\"bad_flag\":\"default\"})\n",
    "s_val = s_val.rename(columns={\"CONTRACT_REF_NO_raw\":\"count_obs\",\"bad_flag\":\"default\"})\n",
    "s_oot = s_oot.rename(columns={\"CONTRACT_REF_NO_raw\":\"count_obs\",\"bad_flag\":\"default\"})"
   ]
  },
  {
   "cell_type": "code",
   "execution_count": null,
   "metadata": {},
   "outputs": [],
   "source": [
    "np_dev['non_default'] = np_dev['count_obs'] - np_dev['default']\n",
    "np_val['non_default'] = np_val['count_obs'] - np_val['default']\n",
    "np_oot['non_default'] = np_oot['count_obs'] - np_oot['default']\n",
    "np_oot_c['non_default'] = np_oot_c['count_obs'] - np_oot_c['default']\n",
    "\n",
    "p_dev['non_default'] = p_dev['count_obs'] - p_dev['default']\n",
    "p_val['non_default'] = p_val['count_obs'] - p_val['default']\n",
    "p_oot['non_default'] = p_oot['count_obs'] - p_oot['default']\n",
    "\n",
    "s_dev['non_default'] = s_dev['count_obs'] - s_dev['default']\n",
    "s_val['non_default'] = s_val['count_obs'] - s_val['default']\n",
    "s_oot['non_default'] = s_oot['count_obs'] - s_oot['default']\n",
    "\n",
    "np_oot_c.head()"
   ]
  },
  {
   "cell_type": "code",
   "execution_count": null,
   "metadata": {},
   "outputs": [],
   "source": [
    "np_dev['default_fraction'] = np_dev['default']/np_dev['count_obs']\n",
    "np_val['default_fraction'] = np_val['default']/np_val['count_obs']\n",
    "np_oot['default_fraction'] = np_oot['default']/np_oot['count_obs']\n",
    "np_oot_c['default_fraction'] = np_oot_c['default']/np_oot_c['count_obs']\n",
    "\n",
    "p_dev['default_fraction'] = p_dev['default']/p_dev['count_obs']\n",
    "p_val['default_fraction'] = p_val['default']/p_val['count_obs']\n",
    "p_oot['default_fraction'] = p_oot['default']/p_oot['count_obs']\n",
    "\n",
    "s_dev['default_fraction'] = s_dev['default']/s_dev['count_obs']\n",
    "s_val['default_fraction'] = s_val['default']/s_val['count_obs']\n",
    "s_oot['default_fraction'] = s_oot['default']/s_oot['count_obs']"
   ]
  },
  {
   "cell_type": "code",
   "execution_count": null,
   "metadata": {},
   "outputs": [],
   "source": [
    "import matplotlib.pyplot as plt\n",
    "\n",
    "x_np_dev = np_dev['final_pd'].to_list()\n",
    "y_np_dev = np_dev['default_fraction'].to_list()\n",
    "x_np_dev_ideal = np_dev['final_pd'].to_list()\n",
    "y_np_dev_ideal = np_dev['final_pd'].to_list()\n",
    "x_np_val = np_val['final_pd'].to_list()\n",
    "y_np_val = np_val['default_fraction'].to_list()\n",
    "x_np_val_ideal = np_val['final_pd'].to_list()\n",
    "y_np_val_ideal = np_val['final_pd'].to_list()\n",
    "x_np_oot = np_oot['final_pd'].to_list()\n",
    "y_np_oot = np_oot['default_fraction'].to_list()\n",
    "x_np_oot_ideal = np_oot['final_pd'].to_list()\n",
    "y_np_oot_ideal = np_oot['final_pd'].to_list()\n",
    "\n",
    "plt.plot(x_np_dev, y_np_dev,\n",
    "         label=\"predicted | dev\",\n",
    "         color=\"#EB8C00\",\n",
    "         linewidth=0.5,\n",
    "         linestyle='dashed',\n",
    "         marker='o',\n",
    "         markersize=3)\n",
    "plt.plot(x_np_val, y_np_val,\n",
    "         label=\"predicted | val\",\n",
    "         color=\"#0060D7\",\n",
    "         linewidth=0.5,\n",
    "         linestyle='dashed',\n",
    "         marker='o',\n",
    "         markersize=3)\n",
    "plt.plot(x_np_oot, y_np_oot,\n",
    "         label=\"predicted | oot\",\n",
    "         color=\"#AA2417\",\n",
    "         linewidth=0.5,\n",
    "         linestyle='dashed',\n",
    "         marker='o',\n",
    "         markersize=3)\n",
    "plt.plot(x_np_dev_ideal, y_np_dev_ideal,\n",
    "         label=\"perfectly calibrated\",\n",
    "         color=\"#4EB523\",\n",
    "         linewidth=1,\n",
    "         markersize=3)\n",
    "# plt.plot(x_np_val_ideal, y_np_val_ideal, label=\"perfectly calibrated | val\")\n",
    "# plt.plot(x_np_oot_ideal, y_np_oot_ideal, label=\"perfectly calibrated | oot\")\n",
    "\n",
    "plt.title('Non-pension')\n",
    "plt.xlabel('Mean PD in PD bin')\n",
    "plt.ylabel('% default')\n",
    "\n",
    "plt.legend()\n",
    "plt.grid(linestyle=':', color='#dedede')\n",
    "\n",
    "plt.show()"
   ]
  },
  {
   "cell_type": "code",
   "execution_count": null,
   "metadata": {},
   "outputs": [],
   "source": [
    "x_np_oot_c = np_oot_c['final_pd'].to_list()\n",
    "y_np_oot_c = np_oot_c['default_fraction'].to_list()\n",
    "x_np_oot_ideal_c = np_oot_c['final_pd'].to_list()\n",
    "y_np_oot_ideal_c = np_oot_c['final_pd'].to_list()\n",
    "x_np_oot = np_oot['final_pd'].to_list()\n",
    "y_np_oot = np_oot['default_fraction'].to_list()\n",
    "\n",
    "plt.plot(x_np_oot, y_np_oot,\n",
    "         label=\"predicted | oot\",\n",
    "         color=\"#AA2417\",\n",
    "         linewidth=0.5,\n",
    "         linestyle='dashed',\n",
    "         marker='o',\n",
    "         markersize=3)\n",
    "plt.plot(x_np_oot_c, y_np_oot_c, label=\"predicted\")\n",
    "plt.plot(x_np_oot_ideal_c, y_np_oot_ideal_c, label=\"perfectly calibrated\",\n",
    "         color=\"#4EB523\",\n",
    "         linewidth=1,\n",
    "         markersize=3)\n",
    "\n",
    "plt.title('Non-pension | OOT after adding part of OOT (previously unseen by the model) into model training')\n",
    "plt.xlabel('Mean PD in PD bin')\n",
    "plt.ylabel('% default')\n",
    "\n",
    "plt.legend()\n",
    "\n",
    "plt.show()"
   ]
  },
  {
   "cell_type": "code",
   "execution_count": null,
   "metadata": {},
   "outputs": [],
   "source": [
    "import matplotlib.pyplot as plt\n",
    "\n",
    "x_p_dev = p_dev['final_pd'].to_list()\n",
    "y_p_dev = p_dev['default_fraction'].to_list()\n",
    "x_p_dev_ideal = p_dev['final_pd'].to_list()\n",
    "y_p_dev_ideal = p_dev['final_pd'].to_list()\n",
    "x_p_val = p_val['final_pd'].to_list()\n",
    "y_p_val = p_val['default_fraction'].to_list()\n",
    "x_p_val_ideal = p_val['final_pd'].to_list()\n",
    "y_p_val_ideal = p_val['final_pd'].to_list()\n",
    "x_p_oot = p_oot['final_pd'].to_list()\n",
    "y_p_oot = p_oot['default_fraction'].to_list()\n",
    "x_p_oot_ideal = p_oot['final_pd'].to_list()\n",
    "y_p_oot_ideal = p_oot['final_pd'].to_list()\n",
    "\n",
    "plt.plot(x_p_dev, y_p_dev,\n",
    "         label=\"predicted | dev\",\n",
    "         color=\"#EB8C00\",\n",
    "         linewidth=0.5,\n",
    "         linestyle='dashed',\n",
    "         marker='o',\n",
    "         markersize=3)\n",
    "plt.plot(x_p_val, y_p_val,\n",
    "         label=\"predicted | val\",\n",
    "         color=\"#0060D7\",\n",
    "         linewidth=0.5,\n",
    "         linestyle='dashed',\n",
    "         marker='o',\n",
    "         markersize=3)\n",
    "plt.plot(x_p_oot, y_p_oot,\n",
    "         label=\"predicted | oot\",\n",
    "         color=\"#AA2417\",\n",
    "         linewidth=0.5,\n",
    "         linestyle='dashed',\n",
    "         marker='o',\n",
    "         markersize=3)\n",
    "plt.plot(x_p_dev_ideal, y_p_dev_ideal,\n",
    "         label=\"perfectly calibrated\",\n",
    "         color=\"#4EB523\",\n",
    "         linewidth=1,\n",
    "         markersize=3)\n",
    "# plt.plot(x_p_val_ideal, y_p_val_ideal, label=\"perfectly calibrated | val\")\n",
    "# plt.plot(x_p_oot_ideal, y_p_oot_ideal, label=\"perfectly calibrated | oot\")\n",
    "\n",
    "plt.title('Pension')\n",
    "plt.xlabel('Mean PD in PD bin')\n",
    "plt.ylabel('% default')\n",
    "\n",
    "plt.legend()\n",
    "plt.grid(linestyle=':', color='#dedede')\n",
    "\n",
    "plt.show()"
   ]
  },
  {
   "cell_type": "code",
   "execution_count": null,
   "metadata": {},
   "outputs": [],
   "source": [
    "import matplotlib.pyplot as plt\n",
    "\n",
    "x_s_dev = s_dev['final_pd'].to_list()\n",
    "y_s_dev = s_dev['default_fraction'].to_list()\n",
    "x_s_dev_ideal = s_dev['final_pd'].to_list()\n",
    "y_s_dev_ideal = s_dev['final_pd'].to_list()\n",
    "x_s_val = s_val['final_pd'].to_list()\n",
    "y_s_val = s_val['default_fraction'].to_list()\n",
    "x_s_val_ideal = s_val['final_pd'].to_list()\n",
    "y_s_val_ideal = s_val['final_pd'].to_list()\n",
    "x_s_oot = s_oot['final_pd'].to_list()\n",
    "y_s_oot = s_oot['default_fraction'].to_list()\n",
    "x_s_oot_ideal = s_oot['final_pd'].to_list()\n",
    "y_s_oot_ideal = s_oot['final_pd'].to_list()\n",
    "\n",
    "plt.plot(x_s_dev, y_s_dev,\n",
    "         label=\"predicted | dev\",\n",
    "         color=\"#EB8C00\",\n",
    "         linewidth=0.5,\n",
    "         linestyle='dashed',\n",
    "         marker='o',\n",
    "         markersize=3)\n",
    "plt.plot(x_s_val, y_s_val,\n",
    "         label=\"predicted | val\",\n",
    "         color=\"#0060D7\",\n",
    "         linewidth=0.5,\n",
    "         linestyle='dashed',\n",
    "         marker='o',\n",
    "         markersize=3)\n",
    "plt.plot(x_s_oot, y_s_oot,\n",
    "         label=\"predicted | oot\",\n",
    "         color=\"#AA2417\",\n",
    "         linewidth=0.5,\n",
    "         linestyle='dashed',\n",
    "         marker='o',\n",
    "         markersize=3)\n",
    "plt.plot(x_s_dev_ideal, y_s_dev_ideal,\n",
    "         label=\"perfectly calibrated\",\n",
    "         color=\"#4EB523\",\n",
    "         linewidth=1,\n",
    "         markersize=3)\n",
    "# plt.plot(x_s_val_ideal, y_s_val_ideal, label=\"perfectly calibrated | val\")\n",
    "# plt.plot(x_s_oot_ideal, y_s_oot_ideal, label=\"perfectly calibrated | oot\")\n",
    "\n",
    "plt.title('Street')\n",
    "plt.xlabel('Mean PD in PD bin')\n",
    "plt.ylabel('% default')\n",
    "\n",
    "plt.legend()\n",
    "plt.grid(linestyle=':', color='#dedede')\n",
    "\n",
    "plt.show()"
   ]
  },
  {
   "cell_type": "code",
   "execution_count": null,
   "metadata": {},
   "outputs": [],
   "source": [
    "x_s_val = s_val['final_pd'].to_list()\n",
    "y_s_val = s_val['default_fraction'].to_list()\n",
    "x_s_val_ideal = s_val['final_pd'].to_list()\n",
    "y_s_val_ideal = s_val['final_pd'].to_list()\n",
    "\n",
    "plt.plot(x_s_val, y_s_val, label=\"predicted\")\n",
    "plt.plot(x_s_val_ideal, y_s_val_ideal, label=\"perfectly calibrated\")\n",
    "\n",
    "plt.title('Street | VAL')\n",
    "plt.xlabel('Mean PD in PD bin')\n",
    "plt.ylabel('% default')\n",
    "\n",
    "plt.legend()\n",
    "\n",
    "plt.show()"
   ]
  },
  {
   "cell_type": "code",
   "execution_count": null,
   "metadata": {},
   "outputs": [],
   "source": [
    "x_s_oot = s_oot['final_pd'].to_list()\n",
    "y_s_oot = s_oot['default_fraction'].to_list()\n",
    "x_s_oot_ideal = s_oot['final_pd'].to_list()\n",
    "y_s_oot_ideal = s_oot['final_pd'].to_list()\n",
    "\n",
    "plt.plot(x_s_oot, y_s_oot, label=\"predicted\")\n",
    "plt.plot(x_s_oot_ideal, y_s_oot_ideal, label=\"perfectly calibrated\")\n",
    "\n",
    "plt.title('Street | OOT')\n",
    "plt.xlabel('Mean PD in PD bin')\n",
    "plt.ylabel('% default')\n",
    "\n",
    "plt.legend()\n",
    "\n",
    "plt.show()"
   ]
  },
  {
   "cell_type": "code",
   "execution_count": null,
   "metadata": {},
   "outputs": [],
   "source": [
    "p_dev"
   ]
  }
 ],
 "metadata": {
  "kernelspec": {
   "display_name": "Python 3",
   "language": "python",
   "name": "python3"
  },
  "language_info": {
   "codemirror_mode": {
    "name": "ipython",
    "version": 3
   },
   "file_extension": ".py",
   "mimetype": "text/x-python",
   "name": "python",
   "nbconvert_exporter": "python",
   "pygments_lexer": "ipython3",
   "version": "3.8.10"
  }
 },
 "nbformat": 4,
 "nbformat_minor": 4
}
