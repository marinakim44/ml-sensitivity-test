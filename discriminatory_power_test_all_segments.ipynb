{
 "cells": [
  {
   "cell_type": "markdown",
   "metadata": {},
   "source": [
    "Discriminatory Power (also Predictive Power, Scorecard Strength) is the ability to discriminate ex ante between defaulting and non-defaulting borrowers. The discriminatory power of any classification procedure (e.g. a Credit Scorecard) can be assessed using a number of statistical measures of discrimination.\n",
    "\n",
    "The following measures have been suggested in the literature or are popular in the financial industry:\n",
    "\n",
    "- Cumulative Accuracy Profile (CAP) and its summary index, the Accuracy Ratio (AR),\n",
    "- Brier Score\n",
    "- Receiver Operating Characteristic (ROC) and its summary indices, the ROC measure and the Pietra coefficient,\n",
    "- Bayesian Error Rate,\n",
    "- Conditional Entropy, Kullback-Leibler Distance, and Conditional Information Entropy Ratio (CIER),\n",
    "- Information Value (Divergence Statistic, Portfolio Stability Index),\n",
    "- Kendall’s tau and Somers’ D (for shadow ratings), and\n",
    "- Gains Chart\n",
    "- Lift Curve\n",
    "\n",
    "Why Brier score?\n",
    "Because it is most applicable in our case, as we have final PD that can be between 0 and 1 and a binary actual outcome of 0 and 1.\n",
    "\n",
    "The smaller the Brier score loss, the better, hence the naming with “loss”. The Brier score measures the mean squared difference between the predicted probability and the actual outcome. The Brier score always takes on a value between zero and one, since this is the largest possible difference between a predicted probability (which must be between zero and one) and the actual outcome (which can take on values of only 0 and 1). It can be decomposed as the sum of refinement loss and calibration loss.\n",
    "\n",
    "The Brier score is appropriate for binary and categorical outcomes that can be structured as true or false."
   ]
  },
  {
   "cell_type": "code",
   "execution_count": 42,
   "metadata": {},
   "outputs": [],
   "source": [
    "import matplotlib.pyplot as plt\n",
    "import pandas as pd\n",
    "import numpy as np\n",
    "\n",
    "non_pension_dev = pd.read_pickle(r'file1')\n",
    "pension_dev = pd.read_pickle(r'file2')\n",
    "street_dev = pd.read_pickle(r'file3')\n",
    "\n",
    "non_pension_val = pd.read_pickle(r'file4')\n",
    "pension_val = pd.read_pickle(r'file5')\n",
    "street_val = pd.read_pickle(r'file6')\n",
    "\n",
    "non_pension_oot = pd.read_pickle(r'file7')\n",
    "pension_oot = pd.read_pickle(r'file8')\n",
    "street_oot = pd.read_pickle(r'file9')"
   ]
  },
  {
   "cell_type": "code",
   "execution_count": 43,
   "metadata": {},
   "outputs": [],
   "source": [
    "non_pension_dev = non_pension_dev[['CONTRACT_REF_NO_raw','bad_flag','final_pd']]\n",
    "pension_dev = pension_dev[['CONTRACT_REF_NO_raw','bad_flag','final_pd']]\n",
    "street_dev = street_dev[['CONTRACT_REF_NO_raw','bad_flag','final_pd']]\n",
    "\n",
    "non_pension_val = non_pension_val[['CONTRACT_REF_NO_raw','bad_flag','final_pd']]\n",
    "pension_val = pension_val[['CONTRACT_REF_NO_raw','bad_flag','final_pd']]\n",
    "street_val = street_val[['CONTRACT_REF_NO_raw','bad_flag','final_pd']]\n",
    "\n",
    "non_pension_oot = non_pension_oot[['CONTRACT_REF_NO_raw','bad_flag','final_pd']]\n",
    "pension_oot = pension_oot[['CONTRACT_REF_NO_raw','bad_flag','final_pd']]\n",
    "street_oot = street_oot[['CONTRACT_REF_NO_raw','bad_flag','final_pd']]"
   ]
  },
  {
   "cell_type": "code",
   "execution_count": 13,
   "metadata": {},
   "outputs": [],
   "source": [
    "from sklearn.metrics import brier_score_loss"
   ]
  },
  {
   "cell_type": "code",
   "execution_count": 44,
   "metadata": {},
   "outputs": [],
   "source": [
    "y_true_non_pension_dev = np.array(non_pension_dev['bad_flag'].to_list())\n",
    "y_prob_non_pension_dev = np.array(non_pension_dev['final_pd'].to_list())\n",
    "y_true_pension_dev = np.array(pension_dev['bad_flag'].to_list())\n",
    "y_prob_pension_dev = np.array(pension_dev['final_pd'].to_list())\n",
    "y_true_street_dev = np.array(street_dev['bad_flag'].to_list())\n",
    "y_prob_street_dev = np.array(street_dev['final_pd'].to_list())\n",
    "\n",
    "y_true_non_pension_val = np.array(non_pension_val['bad_flag'].to_list())\n",
    "y_prob_non_pension_val = np.array(non_pension_val['final_pd'].to_list())\n",
    "y_true_pension_val = np.array(pension_val['bad_flag'].to_list())\n",
    "y_prob_pension_val = np.array(pension_val['final_pd'].to_list())\n",
    "y_true_street_val = np.array(street_val['bad_flag'].to_list())\n",
    "y_prob_street_val = np.array(street_val['final_pd'].to_list())\n",
    "\n",
    "y_true_non_pension_oot = np.array(non_pension_oot['bad_flag'].to_list())\n",
    "y_prob_non_pension_oot = np.array(non_pension_oot['final_pd'].to_list())\n",
    "y_true_pension_oot = np.array(pension_oot['bad_flag'].to_list())\n",
    "y_prob_pension_oot = np.array(pension_oot['final_pd'].to_list())\n",
    "y_true_street_oot = np.array(street_oot['bad_flag'].to_list())\n",
    "y_prob_street_oot = np.array(street_oot['final_pd'].to_list())"
   ]
  },
  {
   "cell_type": "code",
   "execution_count": 45,
   "metadata": {},
   "outputs": [
    {
     "name": "stdout",
     "output_type": "stream",
     "text": [
      "-----DEV BASE-----\n",
      "Brier score for non pension: 0.0333\n",
      "Mean PD: 0.038818775734851665\n",
      "DR: 0.038818719873085605\n",
      "Brier score for pension: 0.0411\n",
      "Mean PD: 0.04538977211966523\n",
      "DR: 0.045389699159218366\n",
      "Brier score for street: 0.0382\n",
      "Mean PD: 0.049490826435607184\n",
      "DR: 0.04949092928544983\n"
     ]
    }
   ],
   "source": [
    "print(\"-----DEV BASE-----\")\n",
    "print(\"Brier score for non pension: \" + str(round(brier_score_loss(y_true_non_pension_dev, y_prob_non_pension_dev),4)))\n",
    "print(\"Mean PD: \" + str(non_pension_dev['final_pd'].mean()))\n",
    "print(\"DR: \" + str(non_pension_dev['bad_flag'].value_counts()[1]/(non_pension_dev['bad_flag'].value_counts()[0] + non_pension_dev['bad_flag'].value_counts()[1])))\n",
    "\n",
    "print(\"Brier score for pension: \" + str(round(brier_score_loss(y_true_pension_dev, y_prob_pension_dev),4)))\n",
    "print(\"Mean PD: \" + str(pension_dev['final_pd'].mean()))\n",
    "print(\"DR: \" + str(pension_dev['bad_flag'].value_counts()[1]/(pension_dev['bad_flag'].value_counts()[0] + pension_dev['bad_flag'].value_counts()[1])))\n",
    "\n",
    "print(\"Brier score for street: \" + str(round(brier_score_loss(y_true_street_dev, y_prob_street_dev),4)))\n",
    "print(\"Mean PD: \" + str(street_dev['final_pd'].mean()))\n",
    "print(\"DR: \" + str(street_dev['bad_flag'].value_counts()[1]/(street_dev['bad_flag'].value_counts()[0] + street_dev['bad_flag'].value_counts()[1])))"
   ]
  },
  {
   "cell_type": "code",
   "execution_count": 46,
   "metadata": {},
   "outputs": [
    {
     "name": "stdout",
     "output_type": "stream",
     "text": [
      "-----VAL BASE-----\n",
      "Brier score for non pension: 0.0334\n",
      "Mean PD: 0.03893636278344383\n",
      "DR: 0.039135064949856774\n",
      "Brier score for pension: 0.0418\n",
      "Mean PD: 0.0456195714710635\n",
      "DR: 0.04615106638776347\n",
      "Brier score for street: 0.0393\n",
      "Mean PD: 0.049371014673996114\n",
      "DR: 0.05116188666205943\n"
     ]
    }
   ],
   "source": [
    "print(\"-----VAL BASE-----\")\n",
    "print(\"Brier score for non pension: \" + str(round(brier_score_loss(y_true_non_pension_val, y_prob_non_pension_val),4)))\n",
    "print(\"Mean PD: \" + str(non_pension_val['final_pd'].mean()))\n",
    "print(\"DR: \" + str(non_pension_val['bad_flag'].value_counts()[1]/(non_pension_val['bad_flag'].value_counts()[0] + non_pension_val['bad_flag'].value_counts()[1])))\n",
    "\n",
    "print(\"Brier score for pension: \" + str(round(brier_score_loss(y_true_pension_val, y_prob_pension_val),4)))\n",
    "print(\"Mean PD: \" + str(pension_val['final_pd'].mean()))\n",
    "print(\"DR: \" + str(pension_val['bad_flag'].value_counts()[1]/(pension_val['bad_flag'].value_counts()[0] + pension_val['bad_flag'].value_counts()[1])))\n",
    "\n",
    "print(\"Brier score for street: \" + str(round(brier_score_loss(y_true_street_val, y_prob_street_val),4)))\n",
    "print(\"Mean PD: \" + str(street_val['final_pd'].mean()))\n",
    "print(\"DR: \" + str(street_val['bad_flag'].value_counts()[1]/(street_val['bad_flag'].value_counts()[0] + street_val['bad_flag'].value_counts()[1])))"
   ]
  },
  {
   "cell_type": "code",
   "execution_count": 48,
   "metadata": {},
   "outputs": [
    {
     "name": "stdout",
     "output_type": "stream",
     "text": [
      "-----OOT BASE-----\n",
      "Brier score for non pension: 0.0291\n",
      "Mean PD: 0.042048300180840326\n",
      "DR: 0.03286369070378634\n",
      "Brier score for pension: 0.0601\n",
      "Mean PD: 0.06738202302833247\n",
      "DR: 0.0842733255427763\n",
      "Brier score for street: 0.0353\n",
      "Mean PD: 0.041917468610657094\n",
      "DR: 0.04150068883027008\n"
     ]
    }
   ],
   "source": [
    "print(\"-----OOT BASE-----\")\n",
    "print(\"Brier score for non pension: \" + str(round(brier_score_loss(y_true_non_pension_oot, y_prob_non_pension_oot),4)))\n",
    "print(\"Mean PD: \" + str(non_pension_oot['final_pd'].mean()))\n",
    "print(\"DR: \" + str(non_pension_oot['bad_flag'].value_counts()[1]/(non_pension_oot['bad_flag'].value_counts()[0] + non_pension_oot['bad_flag'].value_counts()[1])))\n",
    "\n",
    "print(\"Brier score for pension: \" + str(round(brier_score_loss(y_true_pension_oot, y_prob_pension_oot),4)))\n",
    "print(\"Mean PD: \" + str(pension_oot['final_pd'].mean()))\n",
    "print(\"DR: \" + str(pension_oot['bad_flag'].value_counts()[1]/(pension_oot['bad_flag'].value_counts()[0] + pension_oot['bad_flag'].value_counts()[1])))\n",
    "\n",
    "print(\"Brier score for street: \" + str(round(brier_score_loss(y_true_street_oot, y_prob_street_oot),4)))\n",
    "print(\"Mean PD: \" + str(street_oot['final_pd'].mean()))\n",
    "print(\"DR: \" + str(street_oot['bad_flag'].value_counts()[1]/(street_oot['bad_flag'].value_counts()[0] + street_oot['bad_flag'].value_counts()[1])))"
   ]
  },
  {
   "cell_type": "markdown",
   "metadata": {},
   "source": [
    "# Conclusion:\n",
    "\n",
    "> The value of the Brier score is always between 0.0 and 1.0, where a model with perfect skill has a score of 0.0 and the worst has a score of 1.0\n",
    "> Model shows good Brier score"
   ]
  }
 ],
 "metadata": {
  "kernelspec": {
   "display_name": "Python 3",
   "language": "python",
   "name": "python3"
  },
  "language_info": {
   "codemirror_mode": {
    "name": "ipython",
    "version": 3
   },
   "file_extension": ".py",
   "mimetype": "text/x-python",
   "name": "python",
   "nbconvert_exporter": "python",
   "pygments_lexer": "ipython3",
   "version": "3.8.10"
  }
 },
 "nbformat": 4,
 "nbformat_minor": 4
}
