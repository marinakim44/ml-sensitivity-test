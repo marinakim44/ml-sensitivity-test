{
 "cells": [
  {
   "cell_type": "code",
   "execution_count": 27,
   "metadata": {},
   "outputs": [],
   "source": [
    "import pandas as pd\n",
    "import numpy as np\n",
    "pd.options.mode.chained_assignment = None  # default='warn'"
   ]
  },
  {
   "cell_type": "markdown",
   "metadata": {},
   "source": [
    "#### Train data"
   ]
  },
  {
   "cell_type": "code",
   "execution_count": 2,
   "metadata": {},
   "outputs": [],
   "source": [
    "non_pension_dev = pd.read_pickle('file1')\n",
    "pension_dev = pd.read_pickle('file2')\n",
    "street_dev = pd.read_pickle('file3')"
   ]
  },
  {
   "cell_type": "markdown",
   "metadata": {},
   "source": [
    "#### Test data"
   ]
  },
  {
   "cell_type": "code",
   "execution_count": 3,
   "metadata": {},
   "outputs": [],
   "source": [
    "non_pension_val = pd.read_pickle('file5')\n",
    "non_pension_oot = pd.read_pickle('file6')\n",
    "non_pension_nov = pd.read_excel('file7')\n",
    "\n",
    "pension_val = pd.read_pickle('file8')\n",
    "pension_oot = pd.read_pickle('file9')\n",
    "pension_nov = pd.read_excel('file10')\n",
    "\n",
    "street_val = pd.read_pickle('file11')\n",
    "street_oot = pd.read_pickle('file12')\n",
    "street_nov = pd.read_excel('file13')"
   ]
  },
  {
   "cell_type": "code",
   "execution_count": 6,
   "metadata": {},
   "outputs": [],
   "source": [
    "non_pension_nov = non_pension_nov.rename(columns = {'CONTRACT_REF_NO' : 'CONTRACT_REF_NO_raw', 'pred_prob_final' : 'final_pd'})\n",
    "pension_nov = pension_nov.rename(columns = {'CONTRACT_REF_NO' : 'CONTRACT_REF_NO_raw', 'pred_prob_final' : 'final_pd'})\n",
    "street_nov = street_nov.rename(columns = {'CONTRACT_REF_NO' : 'CONTRACT_REF_NO_raw', 'pred_prob_final' : 'final_pd'})"
   ]
  },
  {
   "cell_type": "markdown",
   "metadata": {},
   "source": [
    "#### Bins"
   ]
  },
  {
   "cell_type": "code",
   "execution_count": 7,
   "metadata": {},
   "outputs": [],
   "source": [
    "bins = [e/100 for e in list(range(0, 105, 5))] # 20 bins"
   ]
  },
  {
   "cell_type": "markdown",
   "metadata": {},
   "source": [
    "#### Calculations"
   ]
  },
  {
   "cell_type": "code",
   "execution_count": 28,
   "metadata": {},
   "outputs": [],
   "source": [
    "def count_bins(df_name, colname):\n",
    "    df_name = df_name[[colname]]\n",
    "    df_name.sort_values(by = colname, ascending = False, inplace = True)\n",
    "    df_name['bins'] = pd.cut(df_name[colname], bins)\n",
    "    df_name = df_name.groupby(['bins']).size().reset_index()\n",
    "    df_name.columns = ['bins', 'size']\n",
    "    df_name['total'] = sum(df_name['size'])\n",
    "    df_name['proportion'] = df_name['size'] / df_name['total']\n",
    "    df_name = df_name.filter(['bins', 'proportion'])\n",
    "\n",
    "    return df_name"
   ]
  },
  {
   "cell_type": "code",
   "execution_count": 29,
   "metadata": {},
   "outputs": [],
   "source": [
    "dev_colname = 'final_pd'\n",
    "test_colname = 'final_pd'"
   ]
  },
  {
   "cell_type": "code",
   "execution_count": 30,
   "metadata": {},
   "outputs": [],
   "source": [
    "non_pension_dev_bins = count_bins(non_pension_dev, dev_colname)\n",
    "pension_dev_bins = count_bins(pension_dev, dev_colname)\n",
    "street_dev_bins = count_bins(street_dev, dev_colname)"
   ]
  },
  {
   "cell_type": "code",
   "execution_count": 31,
   "metadata": {},
   "outputs": [],
   "source": [
    "non_pension_val_bins = count_bins(non_pension_val, test_colname)\n",
    "pension_val_bins = count_bins(pension_val, test_colname)\n",
    "street_val_bins = count_bins(street_val, test_colname)"
   ]
  },
  {
   "cell_type": "code",
   "execution_count": 32,
   "metadata": {},
   "outputs": [],
   "source": [
    "non_pension_oot_bins = count_bins(non_pension_oot, test_colname)\n",
    "pension_oot_bins = count_bins(pension_oot, test_colname)\n",
    "street_oot_bins = count_bins(street_oot, test_colname)"
   ]
  },
  {
   "cell_type": "code",
   "execution_count": 33,
   "metadata": {},
   "outputs": [],
   "source": [
    "non_pension_nov_bins = count_bins(non_pension_nov, test_colname)\n",
    "pension_nov_bins = count_bins(pension_nov, test_colname)\n",
    "street_nov_bins = count_bins(street_nov, test_colname)"
   ]
  },
  {
   "cell_type": "markdown",
   "metadata": {},
   "source": [
    "#### Calculate PSI"
   ]
  },
  {
   "cell_type": "code",
   "execution_count": 58,
   "metadata": {},
   "outputs": [],
   "source": [
    "def calculate_psi(df1, df2):\n",
    "\n",
    "    df1 = pd.merge(df1, df2, on = 'bins', how = 'left')\n",
    "    df1['difference'] = df1['proportion_y'] - df1['proportion_x']\n",
    "    df1['ln'] = np.log(pd.Series([e + 0.000000000000001 for e in df1['proportion_y'].tolist()]) / pd.Series([e + 0.000000000000001 for e in df1['proportion_x'].tolist()]))\n",
    "    df1['psi'] = df1['difference'] * df1['ln']\n",
    "    return df1, df1['psi'].sum()"
   ]
  },
  {
   "cell_type": "markdown",
   "metadata": {},
   "source": [
    "#### Non-Pension"
   ]
  },
  {
   "cell_type": "code",
   "execution_count": 59,
   "metadata": {},
   "outputs": [
    {
     "name": "stdout",
     "output_type": "stream",
     "text": [
      "Non-Pension Val PSI: 8.568995606377356e-05\n"
     ]
    }
   ],
   "source": [
    "non_pension_val_psi_df, non_pension_val_psi_value = calculate_psi(non_pension_dev_bins, non_pension_val_bins)\n",
    "print('Non-Pension Val PSI:', non_pension_val_psi_value)"
   ]
  },
  {
   "cell_type": "code",
   "execution_count": 60,
   "metadata": {},
   "outputs": [
    {
     "name": "stdout",
     "output_type": "stream",
     "text": [
      "Non-Pension OOT PSI: 0.0035574971751615747\n"
     ]
    }
   ],
   "source": [
    "non_pension_dev_psi_df, non_pension_oot_psi_value = calculate_psi(non_pension_dev_bins, non_pension_oot_bins)\n",
    "print('Non-Pension OOT PSI:', non_pension_oot_psi_value)"
   ]
  },
  {
   "cell_type": "code",
   "execution_count": 61,
   "metadata": {},
   "outputs": [
    {
     "name": "stdout",
     "output_type": "stream",
     "text": [
      "Non-Pension Nov PSI: 0.00572710858330607\n"
     ]
    }
   ],
   "source": [
    "non_pension_dev_psi_df, non_pension_nov_psi_value = calculate_psi(non_pension_dev_bins, non_pension_nov_bins)\n",
    "print('Non-Pension Nov PSI:', non_pension_nov_psi_value)"
   ]
  },
  {
   "cell_type": "markdown",
   "metadata": {},
   "source": [
    "#### Pension"
   ]
  },
  {
   "cell_type": "code",
   "execution_count": 62,
   "metadata": {},
   "outputs": [
    {
     "name": "stdout",
     "output_type": "stream",
     "text": [
      "Pension Val PSI: 0.00012065788631246394\n"
     ]
    }
   ],
   "source": [
    "pension_val_psi_df, pension_val_psi_value = calculate_psi(pension_dev_bins, pension_val_bins)\n",
    "print('Pension Val PSI:', pension_val_psi_value)"
   ]
  },
  {
   "cell_type": "code",
   "execution_count": 63,
   "metadata": {},
   "outputs": [
    {
     "name": "stdout",
     "output_type": "stream",
     "text": [
      "Pension OOT PSI: 0.13729037062979468\n"
     ]
    }
   ],
   "source": [
    "pension_dev_psi_df, pension_oot_psi_value = calculate_psi(pension_dev_bins, pension_oot_bins)\n",
    "print('Pension OOT PSI:', pension_oot_psi_value)"
   ]
  },
  {
   "cell_type": "code",
   "execution_count": 64,
   "metadata": {},
   "outputs": [
    {
     "name": "stdout",
     "output_type": "stream",
     "text": [
      "Pension Nov PSI: 0.08082303668332005\n"
     ]
    }
   ],
   "source": [
    "pension_dev_psi_df, pension_nov_psi_value = calculate_psi(pension_dev_bins, pension_nov_bins)\n",
    "print('Pension Nov PSI:', pension_nov_psi_value)"
   ]
  },
  {
   "cell_type": "markdown",
   "metadata": {},
   "source": [
    "#### Street"
   ]
  },
  {
   "cell_type": "code",
   "execution_count": 65,
   "metadata": {},
   "outputs": [
    {
     "name": "stdout",
     "output_type": "stream",
     "text": [
      "Street Val PSI: 0.0003048411586008483\n"
     ]
    }
   ],
   "source": [
    "street_val_psi_df, street_val_psi_value = calculate_psi(street_dev_bins, street_val_bins)\n",
    "print('Street Val PSI:', street_val_psi_value)"
   ]
  },
  {
   "cell_type": "code",
   "execution_count": 66,
   "metadata": {},
   "outputs": [
    {
     "name": "stdout",
     "output_type": "stream",
     "text": [
      "Street OOT PSI: 0.027961015460458323\n"
     ]
    }
   ],
   "source": [
    "street_dev_psi_df, street_oot_psi_value = calculate_psi(street_dev_bins, street_oot_bins)\n",
    "print('Street OOT PSI:', street_oot_psi_value)"
   ]
  },
  {
   "cell_type": "code",
   "execution_count": 67,
   "metadata": {},
   "outputs": [
    {
     "name": "stdout",
     "output_type": "stream",
     "text": [
      "Street Nov PSI: 0.018230595215955492\n"
     ]
    }
   ],
   "source": [
    "street_dev_psi_df, street_nov_psi_value = calculate_psi(street_dev_bins, street_nov_bins)\n",
    "print('Street Nov PSI:', street_nov_psi_value)"
   ]
  }
 ],
 "metadata": {
  "kernelspec": {
   "display_name": "Python 3",
   "language": "python",
   "name": "python3"
  },
  "language_info": {
   "codemirror_mode": {
    "name": "ipython",
    "version": 3
   },
   "file_extension": ".py",
   "mimetype": "text/x-python",
   "name": "python",
   "nbconvert_exporter": "python",
   "pygments_lexer": "ipython3",
   "version": "3.8.10"
  }
 },
 "nbformat": 4,
 "nbformat_minor": 2
}
