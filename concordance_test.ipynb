{
 "cells": [
  {
   "cell_type": "code",
   "execution_count": null,
   "metadata": {},
   "outputs": [],
   "source": [
    "import pandas as pd\n",
    "from tqdm import tqdm\n",
    "\n",
    "df = pd.read_pickle(r'file1')\n",
    "\n",
    "pd = df['final_pd']\n",
    "flag = df['bad_flag']\n",
    "pd_flag = [[flag[i], pd[i]] for i in tqdm(range(len(flag)))]\n",
    "\n",
    "print('create pair list')\n",
    "pairs = [(a, b) for idx, a in enumerate(tqdm(pd_flag)) for b in pd_flag[idx + 1:]]\n",
    "print('shrink list')\n",
    "valid_pairs = [pairs[i] for i in range(len(pairs)) if pairs[i][0][0] + pairs[i][1][0] == 1]\n",
    "print(len(valid_pairs))\n",
    "\n",
    "sample_n = len(valid_pairs)\n",
    "print(sample_n)\n",
    "conc = 0\n",
    "\n",
    "for i in tqdm(range(len(valid_pairs))):\n",
    "    if valid_pairs[i][0][0] == 1 and valid_pairs[i][0][1] > valid_pairs[i][1][1]:\n",
    "        conc += 1\n",
    "    elif valid_pairs[i][1][0] == 1 and valid_pairs[i][1][1] > valid_pairs[i][0][1]:\n",
    "        conc += 1\n",
    "\n",
    "print(conc / sample_n)\n",
    "print(f'percentage of concordances: {conc / sample_n}')"
   ]
  }
 ],
 "metadata": {
  "kernelspec": {
   "display_name": "Python 3",
   "language": "python",
   "name": "python3"
  },
  "language_info": {
   "codemirror_mode": {
    "name": "ipython",
    "version": 3
   },
   "file_extension": ".py",
   "mimetype": "text/x-python",
   "name": "python",
   "nbconvert_exporter": "python",
   "pygments_lexer": "ipython3",
   "version": "3.8.10"
  }
 },
 "nbformat": 4,
 "nbformat_minor": 4
}
